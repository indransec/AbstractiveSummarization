{
  "metadata": {
    "kernelspec": {
      "language": "python",
      "display_name": "Python 3",
      "name": "python3"
    },
    "language_info": {
      "name": "python",
      "version": "3.7.12",
      "mimetype": "text/x-python",
      "codemirror_mode": {
        "name": "ipython",
        "version": 3
      },
      "pygments_lexer": "ipython3",
      "nbconvert_exporter": "python",
      "file_extension": ".py"
    },
    "colab": {
      "provenance": []
    }
  },
  "nbformat_minor": 0,
  "nbformat": 4,
  "cells": [
    {
      "cell_type": "code",
      "source": [
        "!conda install -y gdown"
      ],
      "metadata": {
        "execution": {
          "iopub.status.busy": "2023-02-11T19:33:23.757364Z",
          "iopub.execute_input": "2023-02-11T19:33:23.758303Z",
          "iopub.status.idle": "2023-02-11T19:38:10.587980Z",
          "shell.execute_reply.started": "2023-02-11T19:33:23.758237Z",
          "shell.execute_reply": "2023-02-11T19:38:10.585485Z"
        },
        "trusted": true,
        "id": "ricJFk9sjeby",
        "outputId": "11b51807-f24f-448a-9fa9-df737c139abc"
      },
      "execution_count": null,
      "outputs": [
        {
          "name": "stdout",
          "text": "Collecting package metadata (current_repodata.json): done\nSolving environment: done\n\n\n==> WARNING: A newer version of conda exists. <==\n  current version: 22.9.0\n  latest version: 22.11.1\n\nPlease update conda by running\n\n    $ conda update -n base -c conda-forge conda\n\n\n\n## Package Plan ##\n\n  environment location: /opt/conda\n\n  added / updated specs:\n    - gdown\n\n\nThe following packages will be downloaded:\n\n    package                    |            build\n    ---------------------------|-----------------\n    faiss-proc-1.0.0           |             cuda          18 KB  conda-forge\n    filelock-3.9.0             |     pyhd8ed1ab_0          13 KB  conda-forge\n    gdown-4.6.2                |     pyhd8ed1ab_0          18 KB  conda-forge\n    openssl-1.1.1t             |       h0b41bf4_0         1.9 MB  conda-forge\n    ------------------------------------------------------------\n                                           Total:         1.9 MB\n\nThe following NEW packages will be INSTALLED:\n\n  filelock           conda-forge/noarch::filelock-3.9.0-pyhd8ed1ab_0 None\n  gdown              conda-forge/noarch::gdown-4.6.2-pyhd8ed1ab_0 None\n\nThe following packages will be UPDATED:\n\n  openssl                                 1.1.1s-h0b41bf4_1 --> 1.1.1t-h0b41bf4_0 None\n\nThe following packages will be SUPERSEDED by a higher-priority channel:\n\n  faiss-proc                                       rapidsai --> conda-forge None\n\n\n\nDownloading and Extracting Packages\nfaiss-proc-1.0.0     | 18 KB     | ##################################### | 100% \nfilelock-3.9.0       | 13 KB     | ##################################### | 100% \nopenssl-1.1.1t       | 1.9 MB    | ##################################### | 100% \ngdown-4.6.2          | 18 KB     | ##################################### | 100% \nPreparing transaction: done\nVerifying transaction: done\nExecuting transaction: done\nRetrieving notices: ...working... done\n",
          "output_type": "stream"
        }
      ]
    },
    {
      "cell_type": "code",
      "source": [
        "!pwd\n",
        "!pip install nltk"
      ],
      "metadata": {
        "id": "7OB-6XRjPTwL",
        "outputId": "547836ad-003a-49cf-c854-9dfbc3c06705",
        "execution": {
          "iopub.status.busy": "2023-02-11T19:49:26.802083Z",
          "iopub.execute_input": "2023-02-11T19:49:26.803702Z",
          "iopub.status.idle": "2023-02-11T19:49:46.280913Z",
          "shell.execute_reply.started": "2023-02-11T19:49:26.803634Z",
          "shell.execute_reply": "2023-02-11T19:49:46.279232Z"
        },
        "trusted": true
      },
      "execution_count": null,
      "outputs": [
        {
          "name": "stdout",
          "text": "/kaggle/working\nRequirement already satisfied: nltk in /opt/conda/lib/python3.7/site-packages (3.8.1)\nRequirement already satisfied: joblib in /opt/conda/lib/python3.7/site-packages (from nltk) (1.0.1)\nRequirement already satisfied: click in /opt/conda/lib/python3.7/site-packages (from nltk) (8.1.3)\nRequirement already satisfied: tqdm in /opt/conda/lib/python3.7/site-packages (from nltk) (4.64.0)\nRequirement already satisfied: regex>=2021.8.3 in /opt/conda/lib/python3.7/site-packages (from nltk) (2021.11.10)\nRequirement already satisfied: importlib-metadata in /opt/conda/lib/python3.7/site-packages (from click->nltk) (4.13.0)\nRequirement already satisfied: zipp>=0.5 in /opt/conda/lib/python3.7/site-packages (from importlib-metadata->click->nltk) (3.8.0)\nRequirement already satisfied: typing-extensions>=3.6.4 in /opt/conda/lib/python3.7/site-packages (from importlib-metadata->click->nltk) (4.1.1)\n\u001b[33mWARNING: Running pip as the 'root' user can result in broken permissions and conflicting behaviour with the system package manager. It is recommended to use a virtual environment instead: https://pip.pypa.io/warnings/venv\u001b[0m\u001b[33m\n\u001b[0m",
          "output_type": "stream"
        }
      ]
    },
    {
      "cell_type": "code",
      "source": [
        "import pandas as pd\n",
        "import numpy as np\n",
        "import nltk\n",
        "nltk.download('stopwords')\n",
        "from nltk.corpus import stopwords\n",
        "import tensorflow as tf\n",
        "import time\n",
        "import re\n",
        "import pickle\n",
        "import unicodedata\n",
        "import os"
      ],
      "metadata": {
        "id": "Zbxhyl_zFlWL",
        "execution": {
          "iopub.status.busy": "2023-02-11T19:49:46.284600Z",
          "iopub.execute_input": "2023-02-11T19:49:46.285231Z",
          "iopub.status.idle": "2023-02-11T19:49:54.342596Z",
          "shell.execute_reply.started": "2023-02-11T19:49:46.285166Z",
          "shell.execute_reply": "2023-02-11T19:49:54.340867Z"
        },
        "trusted": true,
        "outputId": "3004446f-cdad-4a7c-e48f-4871c415d316"
      },
      "execution_count": null,
      "outputs": [
        {
          "name": "stderr",
          "text": "[nltk_data] Downloading package stopwords to /usr/share/nltk_data...\n[nltk_data]   Package stopwords is already up-to-date!\n",
          "output_type": "stream"
        }
      ]
    },
    {
      "cell_type": "code",
      "source": [
        "!ls .."
      ],
      "metadata": {
        "execution": {
          "iopub.status.busy": "2023-02-11T19:51:49.317279Z",
          "iopub.execute_input": "2023-02-11T19:51:49.318206Z",
          "iopub.status.idle": "2023-02-11T19:51:50.496506Z",
          "shell.execute_reply.started": "2023-02-11T19:51:49.318156Z",
          "shell.execute_reply": "2023-02-11T19:51:50.494842Z"
        },
        "trusted": true,
        "id": "D5PqKzMtjeb2",
        "outputId": "5529fe6d-fd6d-4a99-d303-4dd12a429ac1"
      },
      "execution_count": null,
      "outputs": [
        {
          "name": "stdout",
          "text": "input  lib  working\n",
          "output_type": "stream"
        }
      ]
    },
    {
      "cell_type": "markdown",
      "source": [
        "### Loading Data"
      ],
      "metadata": {
        "id": "yH5cg5pSIHaZ"
      }
    },
    {
      "cell_type": "code",
      "source": [
        "news = pd.read_csv(\"./Book1.csv\")"
      ],
      "metadata": {
        "id": "K_AjGkWXITKA",
        "outputId": "510400e5-9a35-4631-8963-6f5bf138ab6b",
        "execution": {
          "iopub.status.busy": "2023-02-11T19:51:50.499888Z",
          "iopub.execute_input": "2023-02-11T19:51:50.500362Z",
          "iopub.status.idle": "2023-02-11T19:52:07.774893Z",
          "shell.execute_reply.started": "2023-02-11T19:51:50.500321Z",
          "shell.execute_reply": "2023-02-11T19:52:07.772023Z"
        },
        "trusted": true
      },
      "execution_count": null,
      "outputs": [
        {
          "name": "stderr",
          "text": "/opt/conda/lib/python3.7/site-packages/IPython/core/interactiveshell.py:3552: DtypeWarning: Columns (2) have mixed types.Specify dtype option on import or set low_memory=False.\n  exec(code_obj, self.user_global_ns, self.user_ns)\n",
          "output_type": "stream"
        }
      ]
    },
    {
      "cell_type": "code",
      "source": [
        "news.head()"
      ],
      "metadata": {
        "id": "oXtxc-toIc94",
        "outputId": "6a17b9a6-2786-43fb-e8d4-b45dbf5d9e96",
        "execution": {
          "iopub.status.busy": "2023-02-11T19:52:07.777569Z",
          "iopub.execute_input": "2023-02-11T19:52:07.778904Z",
          "iopub.status.idle": "2023-02-11T19:52:07.815730Z",
          "shell.execute_reply.started": "2023-02-11T19:52:07.778846Z",
          "shell.execute_reply": "2023-02-11T19:52:07.814235Z"
        },
        "trusted": true
      },
      "execution_count": null,
      "outputs": [
        {
          "execution_count": 15,
          "output_type": "execute_result",
          "data": {
            "text/plain": "                                            Headline  \\\n0  By . Associated Press . PUBLISHED: . 14:11 EST...   \n1  Ralph Mata was an internal affairs lieutenant ...   \n2  A drunk driver who killed a young woman in a h...   \n3  With a breezy sweep of his pen President Vladi...   \n4  Fleetwood are the only team still to have a 10...   \n\n                                               Short Unnamed: 2  \n0  Bishop John Folda, of North Dakota, is taking ...          .  \n1  Criminal complaint: Cop used his role to help ...        NaN  \n2  Craig Eccleston-Todd, 27, had drunk at least t...        NaN  \n3  Nina dos Santos says Europe must be ready to a...        NaN  \n4  Fleetwood top of League One after 2-0 win at S...        NaN  ",
            "text/html": "<div>\n<style scoped>\n    .dataframe tbody tr th:only-of-type {\n        vertical-align: middle;\n    }\n\n    .dataframe tbody tr th {\n        vertical-align: top;\n    }\n\n    .dataframe thead th {\n        text-align: right;\n    }\n</style>\n<table border=\"1\" class=\"dataframe\">\n  <thead>\n    <tr style=\"text-align: right;\">\n      <th></th>\n      <th>Headline</th>\n      <th>Short</th>\n      <th>Unnamed: 2</th>\n    </tr>\n  </thead>\n  <tbody>\n    <tr>\n      <th>0</th>\n      <td>By . Associated Press . PUBLISHED: . 14:11 EST...</td>\n      <td>Bishop John Folda, of North Dakota, is taking ...</td>\n      <td>.</td>\n    </tr>\n    <tr>\n      <th>1</th>\n      <td>Ralph Mata was an internal affairs lieutenant ...</td>\n      <td>Criminal complaint: Cop used his role to help ...</td>\n      <td>NaN</td>\n    </tr>\n    <tr>\n      <th>2</th>\n      <td>A drunk driver who killed a young woman in a h...</td>\n      <td>Craig Eccleston-Todd, 27, had drunk at least t...</td>\n      <td>NaN</td>\n    </tr>\n    <tr>\n      <th>3</th>\n      <td>With a breezy sweep of his pen President Vladi...</td>\n      <td>Nina dos Santos says Europe must be ready to a...</td>\n      <td>NaN</td>\n    </tr>\n    <tr>\n      <th>4</th>\n      <td>Fleetwood are the only team still to have a 10...</td>\n      <td>Fleetwood top of League One after 2-0 win at S...</td>\n      <td>NaN</td>\n    </tr>\n  </tbody>\n</table>\n</div>"
          },
          "metadata": {}
        }
      ]
    },
    {
      "cell_type": "code",
      "source": [
        "news.shape"
      ],
      "metadata": {
        "id": "vR2hg9themaN",
        "outputId": "5102f059-3d9d-4a37-c34a-2b83a67398aa",
        "execution": {
          "iopub.status.busy": "2023-02-11T19:52:07.817711Z",
          "iopub.execute_input": "2023-02-11T19:52:07.822285Z",
          "iopub.status.idle": "2023-02-11T19:52:07.832428Z",
          "shell.execute_reply.started": "2023-02-11T19:52:07.822231Z",
          "shell.execute_reply": "2023-02-11T19:52:07.830549Z"
        },
        "trusted": true
      },
      "execution_count": null,
      "outputs": [
        {
          "execution_count": 16,
          "output_type": "execute_result",
          "data": {
            "text/plain": "(287113, 3)"
          },
          "metadata": {}
        }
      ]
    },
    {
      "cell_type": "code",
      "source": [
        "news=news[:100000]"
      ],
      "metadata": {
        "id": "PB3WIXtavnGQ",
        "execution": {
          "iopub.status.busy": "2023-02-11T19:52:07.837032Z",
          "iopub.execute_input": "2023-02-11T19:52:07.837852Z",
          "iopub.status.idle": "2023-02-11T19:52:07.845474Z",
          "shell.execute_reply.started": "2023-02-11T19:52:07.837797Z",
          "shell.execute_reply": "2023-02-11T19:52:07.843922Z"
        },
        "trusted": true
      },
      "execution_count": null,
      "outputs": []
    },
    {
      "cell_type": "code",
      "source": [
        "contractions = {\"ain't\": \"am not\",\n",
        "\"aren't\": \"are not\",\n",
        "\"can't\": \"cannot\",\n",
        "\"can't've\": \"cannot have\",\n",
        "\"'cause\": \"because\",\n",
        "\"could've\": \"could have\",\n",
        "\"couldn't\": \"could not\",\n",
        "\"couldn't've\": \"could not have\",\n",
        "\"didn't\": \"did not\",\n",
        "\"doesn't\": \"does not\",\n",
        "\"don't\": \"do not\",\n",
        "\"hadn't\": \"had not\",\n",
        "\"hadn't've\": \"had not have\",\n",
        "\"hasn't\": \"has not\",\n",
        "\"haven't\": \"have not\",\n",
        "\"he'd\": \"he would\",\n",
        "\"he'd've\": \"he would have\",\n",
        "\"he'll\": \"he will\",\n",
        "\"he's\": \"he is\",\n",
        "\"how'd\": \"how did\",\n",
        "\"how'll\": \"how will\",\n",
        "\"how's\": \"how is\",\n",
        "\"i'd\": \"i would\",\n",
        "\"i'll\": \"i will\",\n",
        "\"i'm\": \"i am\",\n",
        "\"i've\": \"i have\",\n",
        "\"isn't\": \"is not\",\n",
        "\"it'd\": \"it would\",\n",
        "\"it'll\": \"it will\",\n",
        "\"it's\": \"it is\",\n",
        "\"let's\": \"let us\",\n",
        "\"ma'am\": \"madam\",\n",
        "\"mayn't\": \"may not\",\n",
        "\"might've\": \"might have\",\n",
        "\"mightn't\": \"might not\",\n",
        "\"must've\": \"must have\",\n",
        "\"mustn't\": \"must not\",\n",
        "\"needn't\": \"need not\",\n",
        "\"oughtn't\": \"ought not\",\n",
        "\"shan't\": \"shall not\",\n",
        "\"sha'n't\": \"shall not\",\n",
        "\"she'd\": \"she would\",\n",
        "\"she'll\": \"she will\",\n",
        "\"she's\": \"she is\",\n",
        "\"should've\": \"should have\",\n",
        "\"shouldn't\": \"should not\",\n",
        "\"that'd\": \"that would\",\n",
        "\"that's\": \"that is\",\n",
        "\"there'd\": \"there had\",\n",
        "\"there's\": \"there is\",\n",
        "\"they'd\": \"they would\",\n",
        "\"they'll\": \"they will\",\n",
        "\"they're\": \"they are\",\n",
        "\"they've\": \"they have\",\n",
        "\"wasn't\": \"was not\",\n",
        "\"we'd\": \"we would\",\n",
        "\"we'll\": \"we will\",\n",
        "\"we're\": \"we are\",\n",
        "\"we've\": \"we have\",\n",
        "\"weren't\": \"were not\",\n",
        "\"what'll\": \"what will\",\n",
        "\"what're\": \"what are\",\n",
        "\"what's\": \"what is\",\n",
        "\"what've\": \"what have\",\n",
        "\"where'd\": \"where did\",\n",
        "\"where's\": \"where is\",\n",
        "\"who'll\": \"who will\",\n",
        "\"who's\": \"who is\",\n",
        "\"won't\": \"will not\",\n",
        "\"wouldn't\": \"would not\",\n",
        "\"you'd\": \"you would\",\n",
        "\"you'll\": \"you will\",\n",
        "\"you're\": \"you are\"}"
      ],
      "metadata": {
        "execution": {
          "iopub.status.busy": "2023-02-11T19:52:07.847958Z",
          "iopub.execute_input": "2023-02-11T19:52:07.848998Z",
          "iopub.status.idle": "2023-02-11T19:52:07.867317Z",
          "shell.execute_reply.started": "2023-02-11T19:52:07.848921Z",
          "shell.execute_reply": "2023-02-11T19:52:07.865694Z"
        },
        "trusted": true,
        "id": "b5jxTsC7jeb5"
      },
      "execution_count": null,
      "outputs": []
    },
    {
      "cell_type": "code",
      "source": [
        "def clean_words(sentence,remove_stopwords = True):\n",
        "    sentence = str(sentence).lower()\n",
        "    sentence = unicodedata.normalize('NFKD', sentence).encode('ascii', 'ignore').decode('utf-8', 'ignore') # for converting é to e and other accented chars\n",
        "    sentence = re.sub(r\"http\\S+\",\"\",sentence)\n",
        "    if True:\n",
        "        sentence = sentence.split()\n",
        "        new_text = []\n",
        "        for word in sentence:\n",
        "            if word in contractions:\n",
        "                new_text.append(contractions[word])\n",
        "            else:\n",
        "                new_text.append(word)\n",
        "        sentence = \" \".join(new_text)\n",
        "    sentence = re.sub(r\"\\\"\", \"\", sentence)\n",
        "    sentence = re.sub(r\"\\'\", \"\", sentence)\n",
        "    sentence = re.sub(r' s ', \"\",sentence)\n",
        "    sentence = re.sub(r\"&39\", \"\", sentence) # the inshorts data has this in it\n",
        "    sentence = re.sub(r\"&34\", \"\", sentence) # the inshorts data has this in it\n",
        "    sentence = re.sub(r\"[\\[\\]\\\\0-9()\\\"$#%/@;:<>{}`+=~|.!?,-]\", \"\", sentence)\n",
        "    sentence = re.sub(r\"&\", \"\", sentence)\n",
        "    sentence = re.sub(r\"\\\\n\", \"\", sentence)\n",
        "    \n",
        "    if remove_stopwords:\n",
        "        sentence = sentence.split()\n",
        "        stops = set(stopwords.words(\"english\"))\n",
        "        sentence = [w for w in sentence if not w in stops]\n",
        "        sentence = \" \".join(sentence)\n",
        "    sentence = sentence.strip()\n",
        "    \n",
        "    return sentence"
      ],
      "metadata": {
        "id": "3NX_XMWqfYaL",
        "execution": {
          "iopub.status.busy": "2023-02-11T19:52:07.869869Z",
          "iopub.execute_input": "2023-02-11T19:52:07.870965Z",
          "iopub.status.idle": "2023-02-11T19:52:07.892756Z",
          "shell.execute_reply.started": "2023-02-11T19:52:07.870878Z",
          "shell.execute_reply": "2023-02-11T19:52:07.891230Z"
        },
        "trusted": true
      },
      "execution_count": null,
      "outputs": []
    },
    {
      "cell_type": "code",
      "source": [
        "news['Short'] = news['Short'].apply(lambda x: clean_words(x,remove_stopwords=False))\n",
        "news['Headline'] = news['Headline'].apply(lambda x: clean_words(x))"
      ],
      "metadata": {
        "id": "RSvVPlK9fASu",
        "execution": {
          "iopub.status.busy": "2023-02-11T19:52:07.896350Z",
          "iopub.execute_input": "2023-02-11T19:52:07.898425Z",
          "iopub.status.idle": "2023-02-11T19:53:35.138284Z",
          "shell.execute_reply.started": "2023-02-11T19:52:07.898285Z",
          "shell.execute_reply": "2023-02-11T19:53:35.136421Z"
        },
        "trusted": true
      },
      "execution_count": null,
      "outputs": []
    },
    {
      "cell_type": "code",
      "source": [
        "document = news['Headline']\n",
        "summary = news['Short']"
      ],
      "metadata": {
        "id": "d4cEp3wmI2BX",
        "execution": {
          "iopub.status.busy": "2023-02-11T19:53:35.170908Z",
          "iopub.execute_input": "2023-02-11T19:53:35.171609Z",
          "iopub.status.idle": "2023-02-11T19:53:35.184221Z",
          "shell.execute_reply.started": "2023-02-11T19:53:35.171548Z",
          "shell.execute_reply": "2023-02-11T19:53:35.181845Z"
        },
        "trusted": true
      },
      "execution_count": null,
      "outputs": []
    },
    {
      "cell_type": "code",
      "source": [
        "document[2]"
      ],
      "metadata": {
        "id": "2z55AhpKIdK7",
        "outputId": "f0b82cd6-8074-4d92-9844-baed2615aa14",
        "execution": {
          "iopub.status.busy": "2023-02-11T19:53:35.186148Z",
          "iopub.execute_input": "2023-02-11T19:53:35.187035Z",
          "iopub.status.idle": "2023-02-11T19:53:35.200712Z",
          "shell.execute_reply.started": "2023-02-11T19:53:35.186953Z",
          "shell.execute_reply": "2023-02-11T19:53:35.199381Z"
        },
        "trusted": true
      },
      "execution_count": null,
      "outputs": [
        {
          "execution_count": 22,
          "output_type": "execute_result",
          "data": {
            "text/plain": "'drunk driver killed young woman headon crash checking mobile phone jailed six years craig ecclestontodd driving home night pub received text message reading replying veered across road driving round bend smashed rachel titleys car coming way craig ecclestontodd left using mobile phone crashed headon car driven rachel titley right died later injuries headon crash took place october mr ecclestontodds car barely recognisable pictured police said ecclestontodd drunk least three four pints beer getting behind wheel found guilty causing death dangerous driving portsmouth crown court yesterday miss titley yearold solicitors clerk cowes isle wight also spent evening friends pub drunk alcohol police said driving responsibly nothing could done avoid collision added lindsay pennell prosecuting said craig ecclestontodds driving resulted tragic death young woman rachel titley death could avoided mr ecclestontodd took decision pick mobile phone whilst driving either reading replying text message distracted failed negotiate lefthand bend crossing central white line path miss titleys oncoming car miss titley pulled wreckage daihatsu cuore died later injuries hospital miss titley bright future ahead also returning home spent enjoyable evening friends driving responsibly arranged contact friends got home confirm arrived safely friends sadly never heard parted company miss titleys death circumstances reiterates danger using handheld mobile phone whilst driving police unable take breath blood tests ecclestontodd immediately tests several hours accident marginally drinkdrive limit judge agreed police would limit time red citroen hit miss titleys blue daihatsu cuore road near yarmouth isle wight october phone records showed also texting around time crash pc mark furse hampshire constabularys serious collision investigation unit said thoughts rachels family time friends pub shalfleet evening alcohol investigation showed nothing could done avoid collision sadly cost life mr ecclestontodd left work yarmouth met friends pub drank least three four pints lager long left pub return home collision occurred around pm able take breath blood tests immediately although blood taken several hours collision showed marginally limit maintain would limit time collision summing today judge agreed analysis phone records showed texting phone around time collision highly likely would also contributed dangerous driving loss control ecclestontodd found guilty causing death dangerous driving following trial portsmouth crown court pictured added mr ecclestontodd spend six years behind bars rachels family lost forever hope make people think twice drinking alcohol getting behind wheel using phone road dangers drink driving driving whilst using mobile phone obvious continue risk spending substantial time prison case highlights tragic consequences committing offences mr ecclestontodd spend six years behind bars rachels family lost ever hope make people think twice drinking alcohol getting behind wheel using phone theyre road case highlights tragic consequences committing offences ecclestontodd newport isle wight also disqualified driving eight years complete extended retest'"
          },
          "metadata": {}
        }
      ]
    },
    {
      "cell_type": "code",
      "source": [
        "summary[2]"
      ],
      "metadata": {
        "execution": {
          "iopub.status.busy": "2023-02-11T19:53:35.210681Z",
          "iopub.execute_input": "2023-02-11T19:53:35.219356Z",
          "iopub.status.idle": "2023-02-11T19:53:35.228162Z",
          "shell.execute_reply.started": "2023-02-11T19:53:35.219282Z",
          "shell.execute_reply": "2023-02-11T19:53:35.226670Z"
        },
        "trusted": true,
        "id": "zNdF_5SbjecD",
        "outputId": "ca6d2c57-56dd-4a99-c663-cfa23cf0bebd"
      },
      "execution_count": null,
      "outputs": [
        {
          "execution_count": 23,
          "output_type": "execute_result",
          "data": {
            "text/plain": "'craig ecclestontodd  had drunk at least three pints before driving car  was using phone when he veered across road in yarmouth isle of wight  crashed headon into yearold rachel titleys car who died in hospital  police say he would have been over legal drinkdrive limit at time of crash  he was found guilty at portsmouth crown court of causing death by dangerous driving'"
          },
          "metadata": {}
        }
      ]
    },
    {
      "cell_type": "code",
      "source": [
        "news.head()"
      ],
      "metadata": {
        "id": "wEj5sZHyvx1C",
        "outputId": "29d9ccec-f6d0-414b-cf7d-fa25b08deb70",
        "execution": {
          "iopub.status.busy": "2023-02-11T19:53:35.230115Z",
          "iopub.execute_input": "2023-02-11T19:53:35.232632Z",
          "iopub.status.idle": "2023-02-11T19:53:35.271629Z",
          "shell.execute_reply.started": "2023-02-11T19:53:35.232571Z",
          "shell.execute_reply": "2023-02-11T19:53:35.270046Z"
        },
        "trusted": true
      },
      "execution_count": null,
      "outputs": [
        {
          "execution_count": 24,
          "output_type": "execute_result",
          "data": {
            "text/plain": "                                            Headline  \\\n0  associated press published est october updated...   \n1  ralph mata internal affairs lieutenant miamida...   \n2  drunk driver killed young woman headon crash c...   \n3  breezy sweep pen president vladimir putin wrot...   \n4  fleetwood team still record sky bet league one...   \n\n                                               Short Unnamed: 2  \n0  bishop john folda of north dakota is taking ti...          .  \n1  criminal complaint cop used his role to help c...        NaN  \n2  craig ecclestontodd  had drunk at least three ...        NaN  \n3  nina dos santos says europe must be ready to a...        NaN  \n4  fleetwood top of league one after  win at scun...        NaN  ",
            "text/html": "<div>\n<style scoped>\n    .dataframe tbody tr th:only-of-type {\n        vertical-align: middle;\n    }\n\n    .dataframe tbody tr th {\n        vertical-align: top;\n    }\n\n    .dataframe thead th {\n        text-align: right;\n    }\n</style>\n<table border=\"1\" class=\"dataframe\">\n  <thead>\n    <tr style=\"text-align: right;\">\n      <th></th>\n      <th>Headline</th>\n      <th>Short</th>\n      <th>Unnamed: 2</th>\n    </tr>\n  </thead>\n  <tbody>\n    <tr>\n      <th>0</th>\n      <td>associated press published est october updated...</td>\n      <td>bishop john folda of north dakota is taking ti...</td>\n      <td>.</td>\n    </tr>\n    <tr>\n      <th>1</th>\n      <td>ralph mata internal affairs lieutenant miamida...</td>\n      <td>criminal complaint cop used his role to help c...</td>\n      <td>NaN</td>\n    </tr>\n    <tr>\n      <th>2</th>\n      <td>drunk driver killed young woman headon crash c...</td>\n      <td>craig ecclestontodd  had drunk at least three ...</td>\n      <td>NaN</td>\n    </tr>\n    <tr>\n      <th>3</th>\n      <td>breezy sweep pen president vladimir putin wrot...</td>\n      <td>nina dos santos says europe must be ready to a...</td>\n      <td>NaN</td>\n    </tr>\n    <tr>\n      <th>4</th>\n      <td>fleetwood team still record sky bet league one...</td>\n      <td>fleetwood top of league one after  win at scun...</td>\n      <td>NaN</td>\n    </tr>\n  </tbody>\n</table>\n</div>"
          },
          "metadata": {}
        }
      ]
    },
    {
      "cell_type": "markdown",
      "source": [
        "### Preprocessing"
      ],
      "metadata": {
        "id": "f8gKyq1gIq4r"
      }
    },
    {
      "cell_type": "code",
      "source": [
        "news.shape"
      ],
      "metadata": {
        "id": "asFZvewcv0B1",
        "outputId": "a58f5f22-65c8-40a1-d1e6-b069c1925ba8",
        "execution": {
          "iopub.status.busy": "2023-02-11T19:53:35.273573Z",
          "iopub.execute_input": "2023-02-11T19:53:35.275040Z",
          "iopub.status.idle": "2023-02-11T19:53:35.285077Z",
          "shell.execute_reply.started": "2023-02-11T19:53:35.274985Z",
          "shell.execute_reply": "2023-02-11T19:53:35.283030Z"
        },
        "trusted": true
      },
      "execution_count": null,
      "outputs": [
        {
          "execution_count": 25,
          "output_type": "execute_result",
          "data": {
            "text/plain": "(100000, 3)"
          },
          "metadata": {}
        }
      ]
    },
    {
      "cell_type": "code",
      "source": [
        "# for decoder sequence\n",
        "summary = summary.apply(lambda x: '<go> ' + x + ' <stop>')\n",
        "summary.head()"
      ],
      "metadata": {
        "id": "TJ6LE4MrJjC_",
        "outputId": "d10c873a-3ad5-462a-b4a7-27a4f09e58c6",
        "execution": {
          "iopub.status.busy": "2023-02-11T19:53:35.289575Z",
          "iopub.execute_input": "2023-02-11T19:53:35.293342Z",
          "iopub.status.idle": "2023-02-11T19:53:35.504260Z",
          "shell.execute_reply.started": "2023-02-11T19:53:35.293276Z",
          "shell.execute_reply": "2023-02-11T19:53:35.502406Z"
        },
        "trusted": true
      },
      "execution_count": null,
      "outputs": [
        {
          "execution_count": 26,
          "output_type": "execute_result",
          "data": {
            "text/plain": "0    <go> bishop john folda of north dakota is taki...\n1    <go> criminal complaint cop used his role to h...\n2    <go> craig ecclestontodd  had drunk at least t...\n3    <go> nina dos santos says europe must be ready...\n4    <go> fleetwood top of league one after  win at...\nName: Short, dtype: object"
          },
          "metadata": {}
        }
      ]
    },
    {
      "cell_type": "markdown",
      "source": [
        "#### Tokenizing the texts into integer tokens"
      ],
      "metadata": {
        "id": "95Zv7FIvKbTi"
      }
    },
    {
      "cell_type": "code",
      "source": [
        "# since < and > from default tokens cannot be removed\n",
        "filters = '!\"#$%&()*+,-./:;=?@[\\\\]^_`{|}~\\t\\n'\n",
        "oov_token = '<unk>'"
      ],
      "metadata": {
        "id": "7TqbpEyPMRqa",
        "execution": {
          "iopub.status.busy": "2023-02-11T19:53:35.513171Z",
          "iopub.execute_input": "2023-02-11T19:53:35.514657Z",
          "iopub.status.idle": "2023-02-11T19:53:35.530502Z",
          "shell.execute_reply.started": "2023-02-11T19:53:35.514592Z",
          "shell.execute_reply": "2023-02-11T19:53:35.526747Z"
        },
        "trusted": true
      },
      "execution_count": null,
      "outputs": []
    },
    {
      "cell_type": "code",
      "source": [
        "document_tokenizer = tf.keras.preprocessing.text.Tokenizer(oov_token=oov_token)\n",
        "summary_tokenizer = tf.keras.preprocessing.text.Tokenizer(filters=filters, oov_token=oov_token)"
      ],
      "metadata": {
        "id": "cHw2csoYImsa",
        "execution": {
          "iopub.status.busy": "2023-02-11T19:53:35.533158Z",
          "iopub.execute_input": "2023-02-11T19:53:35.539541Z",
          "iopub.status.idle": "2023-02-11T19:53:37.376632Z",
          "shell.execute_reply.started": "2023-02-11T19:53:35.539461Z",
          "shell.execute_reply": "2023-02-11T19:53:37.375248Z"
        },
        "trusted": true
      },
      "execution_count": null,
      "outputs": []
    },
    {
      "cell_type": "code",
      "source": [
        "document_tokenizer.fit_on_texts(document)\n",
        "summary_tokenizer.fit_on_texts(summary)"
      ],
      "metadata": {
        "id": "DWU9Xu7OKVab",
        "execution": {
          "iopub.status.busy": "2023-02-11T19:53:37.384608Z",
          "iopub.execute_input": "2023-02-11T19:53:37.388305Z",
          "iopub.status.idle": "2023-02-11T19:54:41.519499Z",
          "shell.execute_reply.started": "2023-02-11T19:53:37.388223Z",
          "shell.execute_reply": "2023-02-11T19:54:41.518045Z"
        },
        "trusted": true
      },
      "execution_count": null,
      "outputs": []
    },
    {
      "cell_type": "code",
      "source": [
        "inputs = document_tokenizer.texts_to_sequences(document)\n",
        "targets = summary_tokenizer.texts_to_sequences(summary)"
      ],
      "metadata": {
        "id": "3ESm-aYR-tvx",
        "execution": {
          "iopub.status.busy": "2023-02-11T19:54:41.521425Z",
          "iopub.execute_input": "2023-02-11T19:54:41.525599Z",
          "iopub.status.idle": "2023-02-11T19:55:16.780578Z",
          "shell.execute_reply.started": "2023-02-11T19:54:41.525548Z",
          "shell.execute_reply": "2023-02-11T19:55:16.778921Z"
        },
        "trusted": true
      },
      "execution_count": null,
      "outputs": []
    },
    {
      "cell_type": "code",
      "source": [
        "summary_tokenizer.texts_to_sequences([\"that is fine\"])"
      ],
      "metadata": {
        "id": "kVyErXAei5_b",
        "outputId": "26cf011e-1538-454b-80b1-1a8e9fe4b04c",
        "execution": {
          "iopub.status.busy": "2023-02-11T19:55:16.782506Z",
          "iopub.execute_input": "2023-02-11T19:55:16.783381Z",
          "iopub.status.idle": "2023-02-11T19:55:16.809444Z",
          "shell.execute_reply.started": "2023-02-11T19:55:16.783326Z",
          "shell.execute_reply": "2023-02-11T19:55:16.804093Z"
        },
        "trusted": true
      },
      "execution_count": null,
      "outputs": [
        {
          "execution_count": 31,
          "output_type": "execute_result",
          "data": {
            "text/plain": "[[32, 13, 1195]]"
          },
          "metadata": {}
        }
      ]
    },
    {
      "cell_type": "code",
      "source": [
        "print(document_tokenizer)"
      ],
      "metadata": {
        "id": "29NpKGpZ3ORw",
        "outputId": "2d981207-19ad-4f7f-f72d-6fbbd81c8eab",
        "execution": {
          "iopub.status.busy": "2023-02-11T19:55:16.811703Z",
          "iopub.execute_input": "2023-02-11T19:55:16.814306Z",
          "iopub.status.idle": "2023-02-11T19:55:16.824060Z",
          "shell.execute_reply.started": "2023-02-11T19:55:16.814242Z",
          "shell.execute_reply": "2023-02-11T19:55:16.822004Z"
        },
        "trusted": true
      },
      "execution_count": null,
      "outputs": [
        {
          "name": "stdout",
          "text": "<keras_preprocessing.text.Tokenizer object at 0x7fa06c62ee90>\n",
          "output_type": "stream"
        }
      ]
    },
    {
      "cell_type": "code",
      "source": [
        "summary_tokenizer.sequences_to_texts([[18, 2, 1, 91]])"
      ],
      "metadata": {
        "id": "Ryx9qx90jwXu",
        "outputId": "efe51f7f-9f11-45da-baa0-8a14d14079c0",
        "execution": {
          "iopub.status.busy": "2023-02-11T19:55:16.825666Z",
          "iopub.execute_input": "2023-02-11T19:55:16.826324Z",
          "iopub.status.idle": "2023-02-11T19:55:16.846270Z",
          "shell.execute_reply.started": "2023-02-11T19:55:16.826261Z",
          "shell.execute_reply": "2023-02-11T19:55:16.844911Z"
        },
        "trusted": true
      },
      "execution_count": null,
      "outputs": [
        {
          "execution_count": 33,
          "output_type": "execute_result",
          "data": {
            "text/plain": "['has the <unk> during']"
          },
          "metadata": {}
        }
      ]
    },
    {
      "cell_type": "code",
      "source": [
        "encoder_vocab_size = len(document_tokenizer.word_index) + 1\n",
        "decoder_vocab_size = len(summary_tokenizer.word_index) + 1\n",
        "\n",
        "# vocab_size\n",
        "encoder_vocab_size, decoder_vocab_size"
      ],
      "metadata": {
        "id": "KoizyBvLKv8h",
        "outputId": "52de1631-ee36-4c22-a773-324ea1224d6a",
        "execution": {
          "iopub.status.busy": "2023-02-11T19:55:16.848007Z",
          "iopub.execute_input": "2023-02-11T19:55:16.850059Z",
          "iopub.status.idle": "2023-02-11T19:55:16.866717Z",
          "shell.execute_reply.started": "2023-02-11T19:55:16.849997Z",
          "shell.execute_reply": "2023-02-11T19:55:16.865177Z"
        },
        "trusted": true
      },
      "execution_count": null,
      "outputs": [
        {
          "execution_count": 34,
          "output_type": "execute_result",
          "data": {
            "text/plain": "(429636, 111073)"
          },
          "metadata": {}
        }
      ]
    },
    {
      "cell_type": "code",
      "source": [
        "document"
      ],
      "metadata": {
        "id": "1SvS5hm7A1rD",
        "outputId": "6e52ba03-1f38-4421-f530-fe07a2bbc1e7",
        "execution": {
          "iopub.status.busy": "2023-02-11T19:55:16.868640Z",
          "iopub.execute_input": "2023-02-11T19:55:16.870622Z",
          "iopub.status.idle": "2023-02-11T19:55:16.912917Z",
          "shell.execute_reply.started": "2023-02-11T19:55:16.870554Z",
          "shell.execute_reply": "2023-02-11T19:55:16.908331Z"
        },
        "trusted": true
      },
      "execution_count": null,
      "outputs": [
        {
          "execution_count": 35,
          "output_type": "execute_result",
          "data": {
            "text/plain": "0        associated press published est october updated...\n1        ralph mata internal affairs lieutenant miamida...\n2        drunk driver killed young woman headon crash c...\n3        breezy sweep pen president vladimir putin wrot...\n4        fleetwood team still record sky bet league one...\n                               ...                        \n99995    deni kirkova published est november updated es...\n99996    furious harvard business school professor gone...\n99997    daily mail reporter lewis dale facing lengthy ...\n99998    daily mail reporter published est february upd...\n99999    daily mail reporter published est february upd...\nName: Headline, Length: 100000, dtype: object"
          },
          "metadata": {}
        }
      ]
    },
    {
      "cell_type": "markdown",
      "source": [
        "#### Obtaining insights on lengths for defining maxlen"
      ],
      "metadata": {
        "id": "mZden_q9_eZr"
      }
    },
    {
      "cell_type": "code",
      "source": [
        "document_lengths = pd.Series([len(x) for x in document])\n",
        "summary_lengths = pd.Series([len(x) for x in summary])"
      ],
      "metadata": {
        "id": "ma4o2nGdK5Xb",
        "execution": {
          "iopub.status.busy": "2023-02-11T19:55:16.915269Z",
          "iopub.execute_input": "2023-02-11T19:55:16.917872Z",
          "iopub.status.idle": "2023-02-11T19:55:17.189148Z",
          "shell.execute_reply.started": "2023-02-11T19:55:16.917769Z",
          "shell.execute_reply": "2023-02-11T19:55:17.187761Z"
        },
        "trusted": true
      },
      "execution_count": null,
      "outputs": []
    },
    {
      "cell_type": "code",
      "source": [
        "document_lengths = pd.Series([len(x.split()) for x in document])\n",
        "summary_lengths = pd.Series([len(x.split()) for x in summary])"
      ],
      "metadata": {
        "id": "nusEHfDY5usT",
        "execution": {
          "iopub.status.busy": "2023-02-11T19:55:17.197194Z",
          "iopub.execute_input": "2023-02-11T19:55:17.198530Z",
          "iopub.status.idle": "2023-02-11T19:55:19.972196Z",
          "shell.execute_reply.started": "2023-02-11T19:55:17.198468Z",
          "shell.execute_reply": "2023-02-11T19:55:19.970459Z"
        },
        "trusted": true
      },
      "execution_count": null,
      "outputs": []
    },
    {
      "cell_type": "code",
      "source": [
        "print(document[0].split())"
      ],
      "metadata": {
        "id": "GcqxKRjk6ReE",
        "outputId": "8523d751-0ddf-44e2-e9d2-3dda6332a14b",
        "execution": {
          "iopub.status.busy": "2023-02-11T19:55:19.974508Z",
          "iopub.execute_input": "2023-02-11T19:55:19.976594Z",
          "iopub.status.idle": "2023-02-11T19:55:19.984838Z",
          "shell.execute_reply.started": "2023-02-11T19:55:19.976510Z",
          "shell.execute_reply": "2023-02-11T19:55:19.983337Z"
        },
        "trusted": true
      },
      "execution_count": null,
      "outputs": [
        {
          "name": "stdout",
          "text": "['associated', 'press', 'published', 'est', 'october', 'updated', 'est', 'october', 'bishop', 'fargo', 'catholic', 'diocese', 'north', 'dakota', 'exposed', 'potentially', 'hundreds', 'church', 'members', 'fargo', 'grand', 'forks', 'jamestown', 'hepatitis', 'virus', 'late', 'september', 'early', 'october', 'state', 'health', 'department', 'issued', 'advisory', 'exposure', 'anyone', 'attended', 'five', 'churches', 'took', 'communion', 'bishop', 'john', 'folda', 'pictured', 'fargo', 'catholic', 'diocese', 'north', 'dakota', 'exposed', 'potentially', 'hundreds', 'church', 'members', 'fargo', 'grand', 'forks', 'jamestown', 'hepatitis', 'state', 'immunization', 'program', 'manager', 'molly', 'howell', 'says', 'risk', 'low', 'officials', 'feel', 'important', 'alert', 'people', 'possible', 'exposure', 'diocese', 'announced', 'monday', 'bishop', 'john', 'folda', 'taking', 'time', 'diagnosed', 'hepatitis', 'diocese', 'says', 'contracted', 'infection', 'contaminated', 'food', 'attending', 'conference', 'newly', 'ordained', 'bishops', 'italy', 'last', 'month', 'symptoms', 'hepatitis', 'include', 'fever', 'tiredness', 'loss', 'appetite', 'nausea', 'abdominal', 'discomfort', 'fargo', 'catholic', 'diocese', 'north', 'dakota', 'pictured', 'bishop', 'located']\n",
          "output_type": "stream"
        }
      ]
    },
    {
      "cell_type": "code",
      "source": [
        "document_lengths.describe()"
      ],
      "metadata": {
        "id": "iXZlO99C-UXK",
        "outputId": "b40a4bf2-a6a0-41e7-906d-46514e880c99",
        "execution": {
          "iopub.status.busy": "2023-02-11T19:55:19.987424Z",
          "iopub.execute_input": "2023-02-11T19:55:19.988505Z",
          "iopub.status.idle": "2023-02-11T19:55:20.017789Z",
          "shell.execute_reply.started": "2023-02-11T19:55:19.988448Z",
          "shell.execute_reply": "2023-02-11T19:55:20.016321Z"
        },
        "trusted": true
      },
      "execution_count": null,
      "outputs": [
        {
          "execution_count": 39,
          "output_type": "execute_result",
          "data": {
            "text/plain": "count    100000.000000\nmean        376.476510\nstd         180.953239\nmin           4.000000\n25%         243.000000\n50%         343.000000\n75%         476.000000\nmax        1922.000000\ndtype: float64"
          },
          "metadata": {}
        }
      ]
    },
    {
      "cell_type": "code",
      "source": [
        "summary_lengths.describe()"
      ],
      "metadata": {
        "id": "ALMwKMx--ZF7",
        "outputId": "953f8e66-be04-48a2-dc4d-ecfb31227dfe",
        "execution": {
          "iopub.status.busy": "2023-02-11T19:55:20.020240Z",
          "iopub.execute_input": "2023-02-11T19:55:20.021319Z",
          "iopub.status.idle": "2023-02-11T19:55:20.042199Z",
          "shell.execute_reply.started": "2023-02-11T19:55:20.021264Z",
          "shell.execute_reply": "2023-02-11T19:55:20.040625Z"
        },
        "trusted": true
      },
      "execution_count": null,
      "outputs": [
        {
          "execution_count": 40,
          "output_type": "execute_result",
          "data": {
            "text/plain": "count    100000.000000\nmean         49.072580\nstd          20.131993\nmin           5.000000\n25%          37.000000\n50%          46.000000\n75%          57.000000\nmax        1196.000000\ndtype: float64"
          },
          "metadata": {}
        }
      ]
    },
    {
      "cell_type": "code",
      "source": [
        "# maxlen\n",
        "# taking values > and round figured to 75th percentile\n",
        "# at the same time not leaving high variance\n",
        "encoder_maxlen = 512\n",
        "decoder_maxlen = 64"
      ],
      "metadata": {
        "id": "cVeMilXr-bpC",
        "execution": {
          "iopub.status.busy": "2023-02-11T19:55:20.052570Z",
          "iopub.execute_input": "2023-02-11T19:55:20.054049Z",
          "iopub.status.idle": "2023-02-11T19:55:20.061659Z",
          "shell.execute_reply.started": "2023-02-11T19:55:20.053984Z",
          "shell.execute_reply": "2023-02-11T19:55:20.059626Z"
        },
        "trusted": true
      },
      "execution_count": null,
      "outputs": []
    },
    {
      "cell_type": "markdown",
      "source": [
        "#### Padding/Truncating sequences for identical sequence lengths"
      ],
      "metadata": {
        "id": "_SWap3YJBk-D"
      }
    },
    {
      "cell_type": "code",
      "source": [
        "inputs = tf.keras.preprocessing.sequence.pad_sequences(inputs, maxlen=encoder_maxlen, padding='post', truncating='post')\n",
        "targets = tf.keras.preprocessing.sequence.pad_sequences(targets, maxlen=decoder_maxlen, padding='post', truncating='post')"
      ],
      "metadata": {
        "id": "vEyUBeu7ACRt",
        "execution": {
          "iopub.status.busy": "2023-02-11T19:55:20.064255Z",
          "iopub.execute_input": "2023-02-11T19:55:20.066140Z",
          "iopub.status.idle": "2023-02-11T19:55:23.545428Z",
          "shell.execute_reply.started": "2023-02-11T19:55:20.066062Z",
          "shell.execute_reply": "2023-02-11T19:55:23.543658Z"
        },
        "trusted": true
      },
      "execution_count": null,
      "outputs": []
    },
    {
      "cell_type": "markdown",
      "source": [
        "### Creating dataset pipeline"
      ],
      "metadata": {
        "id": "wIP0kIIcB8Rm"
      }
    },
    {
      "cell_type": "code",
      "source": [
        "inputs = tf.cast(inputs, dtype=tf.int32)\n",
        "targets = tf.cast(targets, dtype=tf.int32)"
      ],
      "metadata": {
        "id": "LzO6l3-AB7hJ",
        "execution": {
          "iopub.status.busy": "2023-02-11T19:55:23.555998Z",
          "iopub.execute_input": "2023-02-11T19:55:23.556528Z",
          "iopub.status.idle": "2023-02-11T19:55:27.325101Z",
          "shell.execute_reply.started": "2023-02-11T19:55:23.556485Z",
          "shell.execute_reply": "2023-02-11T19:55:27.323392Z"
        },
        "trusted": true,
        "outputId": "161a4fa4-f06b-47c0-8def-0a7686bb9018"
      },
      "execution_count": null,
      "outputs": [
        {
          "name": "stderr",
          "text": "2023-02-11 19:55:23.632739: I tensorflow/stream_executor/cuda/cuda_gpu_executor.cc:937] successful NUMA node read from SysFS had negative value (-1), but there must be at least one NUMA node, so returning NUMA node zero\n2023-02-11 19:55:23.784371: I tensorflow/stream_executor/cuda/cuda_gpu_executor.cc:937] successful NUMA node read from SysFS had negative value (-1), but there must be at least one NUMA node, so returning NUMA node zero\n2023-02-11 19:55:23.785422: I tensorflow/stream_executor/cuda/cuda_gpu_executor.cc:937] successful NUMA node read from SysFS had negative value (-1), but there must be at least one NUMA node, so returning NUMA node zero\n2023-02-11 19:55:23.791193: I tensorflow/core/platform/cpu_feature_guard.cc:142] This TensorFlow binary is optimized with oneAPI Deep Neural Network Library (oneDNN) to use the following CPU instructions in performance-critical operations:  AVX2 AVX512F FMA\nTo enable them in other operations, rebuild TensorFlow with the appropriate compiler flags.\n2023-02-11 19:55:23.791892: I tensorflow/stream_executor/cuda/cuda_gpu_executor.cc:937] successful NUMA node read from SysFS had negative value (-1), but there must be at least one NUMA node, so returning NUMA node zero\n2023-02-11 19:55:23.793377: I tensorflow/stream_executor/cuda/cuda_gpu_executor.cc:937] successful NUMA node read from SysFS had negative value (-1), but there must be at least one NUMA node, so returning NUMA node zero\n2023-02-11 19:55:23.794419: I tensorflow/stream_executor/cuda/cuda_gpu_executor.cc:937] successful NUMA node read from SysFS had negative value (-1), but there must be at least one NUMA node, so returning NUMA node zero\n2023-02-11 19:55:26.568215: I tensorflow/stream_executor/cuda/cuda_gpu_executor.cc:937] successful NUMA node read from SysFS had negative value (-1), but there must be at least one NUMA node, so returning NUMA node zero\n2023-02-11 19:55:26.569320: I tensorflow/stream_executor/cuda/cuda_gpu_executor.cc:937] successful NUMA node read from SysFS had negative value (-1), but there must be at least one NUMA node, so returning NUMA node zero\n2023-02-11 19:55:26.570312: I tensorflow/stream_executor/cuda/cuda_gpu_executor.cc:937] successful NUMA node read from SysFS had negative value (-1), but there must be at least one NUMA node, so returning NUMA node zero\n2023-02-11 19:55:26.571154: I tensorflow/core/common_runtime/gpu/gpu_device.cc:1510] Created device /job:localhost/replica:0/task:0/device:GPU:0 with 15401 MB memory:  -> device: 0, name: Tesla P100-PCIE-16GB, pci bus id: 0000:00:04.0, compute capability: 6.0\n2023-02-11 19:55:26.579518: W tensorflow/core/framework/cpu_allocator_impl.cc:80] Allocation of 204800000 exceeds 10% of free system memory.\n2023-02-11 19:55:27.286644: W tensorflow/core/framework/cpu_allocator_impl.cc:80] Allocation of 25600000 exceeds 10% of free system memory.\n",
          "output_type": "stream"
        }
      ]
    },
    {
      "cell_type": "code",
      "source": [
        "inputs"
      ],
      "metadata": {
        "id": "PeXzwjENyGy5",
        "outputId": "780e0715-b5af-4486-9021-710226562425",
        "execution": {
          "iopub.status.busy": "2023-02-11T19:55:27.327396Z",
          "iopub.execute_input": "2023-02-11T19:55:27.329111Z",
          "iopub.status.idle": "2023-02-11T19:55:27.344213Z",
          "shell.execute_reply.started": "2023-02-11T19:55:27.329049Z",
          "shell.execute_reply": "2023-02-11T19:55:27.342515Z"
        },
        "trusted": true
      },
      "execution_count": null,
      "outputs": [
        {
          "execution_count": 44,
          "output_type": "execute_result",
          "data": {
            "text/plain": "<tf.Tensor: shape=(100000, 512), dtype=int32, numpy=\narray([[1330,  490,  125, ...,    0,    0,    0],\n       [7777, 7430, 2484, ...,    0,    0,    0],\n       [2766,  748,  136, ...,    0,    0,    0],\n       ...,\n       [ 330,  515,  778, ..., 1062,  160,   47],\n       [ 330,  515,  778, ...,    0,    0,    0],\n       [ 330,  515,  778, ..., 1455, 1865, 5574]], dtype=int32)>"
          },
          "metadata": {}
        }
      ]
    },
    {
      "cell_type": "code",
      "source": [
        "BUFFER_SIZE =30000\n",
        "BATCH_SIZE = 64"
      ],
      "metadata": {
        "id": "slZ5f4P4DurS",
        "execution": {
          "iopub.status.busy": "2023-02-11T19:55:27.346785Z",
          "iopub.execute_input": "2023-02-11T19:55:27.348679Z",
          "iopub.status.idle": "2023-02-11T19:55:27.355216Z",
          "shell.execute_reply.started": "2023-02-11T19:55:27.348620Z",
          "shell.execute_reply": "2023-02-11T19:55:27.353559Z"
        },
        "trusted": true
      },
      "execution_count": null,
      "outputs": []
    },
    {
      "cell_type": "code",
      "source": [
        "dataset = tf.data.Dataset.from_tensor_slices((inputs, targets)).shuffle(BUFFER_SIZE).batch(BATCH_SIZE)"
      ],
      "metadata": {
        "id": "wI-fV7eABWN6",
        "execution": {
          "iopub.status.busy": "2023-02-11T19:55:27.357430Z",
          "iopub.execute_input": "2023-02-11T19:55:27.358826Z",
          "iopub.status.idle": "2023-02-11T19:55:27.397876Z",
          "shell.execute_reply.started": "2023-02-11T19:55:27.358730Z",
          "shell.execute_reply": "2023-02-11T19:55:27.396794Z"
        },
        "trusted": true
      },
      "execution_count": null,
      "outputs": []
    },
    {
      "cell_type": "markdown",
      "source": [
        "### Positional Encoding for adding notion of position among words as unlike RNN this is non-directional"
      ],
      "metadata": {
        "id": "isN1CpAXLfsl"
      }
    },
    {
      "cell_type": "code",
      "source": [
        "def get_angles(position, i, d_model):\n",
        "    angle_rates = 1 / np.power(10000, (2 * (i // 2)) / np.float32(d_model))\n",
        "    return position * angle_rates"
      ],
      "metadata": {
        "id": "Purv7oyhETDZ",
        "execution": {
          "iopub.status.busy": "2023-02-11T19:55:27.399842Z",
          "iopub.execute_input": "2023-02-11T19:55:27.400952Z",
          "iopub.status.idle": "2023-02-11T19:55:27.409004Z",
          "shell.execute_reply.started": "2023-02-11T19:55:27.400873Z",
          "shell.execute_reply": "2023-02-11T19:55:27.407450Z"
        },
        "trusted": true
      },
      "execution_count": null,
      "outputs": []
    },
    {
      "cell_type": "code",
      "source": [
        "def positional_encoding(position, d_model):\n",
        "    angle_rads = get_angles(\n",
        "        np.arange(position)[:, np.newaxis],\n",
        "        np.arange(d_model)[np.newaxis, :],\n",
        "        d_model\n",
        "    )\n",
        "\n",
        "    # apply sin to even indices in the array; 2i\n",
        "    angle_rads[:, 0::2] = np.sin(angle_rads[:, 0::2])\n",
        "\n",
        "    # apply cos to odd indices in the array; 2i+1\n",
        "    angle_rads[:, 1::2] = np.cos(angle_rads[:, 1::2])\n",
        "\n",
        "    pos_encoding = angle_rads[np.newaxis, ...]\n",
        "\n",
        "    return tf.cast(pos_encoding, dtype=tf.float32)\n"
      ],
      "metadata": {
        "id": "40J2pc2NEXp5",
        "execution": {
          "iopub.status.busy": "2023-02-11T19:55:27.411210Z",
          "iopub.execute_input": "2023-02-11T19:55:27.412210Z",
          "iopub.status.idle": "2023-02-11T19:55:27.425035Z",
          "shell.execute_reply.started": "2023-02-11T19:55:27.412152Z",
          "shell.execute_reply": "2023-02-11T19:55:27.423371Z"
        },
        "trusted": true
      },
      "execution_count": null,
      "outputs": []
    },
    {
      "cell_type": "markdown",
      "source": [
        "### Masking\n",
        "\n",
        "- Padding mask for masking \"pad\" sequences\n",
        "- Lookahead mask for masking future words from contributing in prediction of current words in self attention"
      ],
      "metadata": {
        "id": "24Pe01DMMWHc"
      }
    },
    {
      "cell_type": "code",
      "source": [
        "def create_padding_mask(seq):\n",
        "    seq = tf.cast(tf.math.equal(seq, 0), tf.float32)\n",
        "    return seq[:, tf.newaxis, tf.newaxis, :]"
      ],
      "metadata": {
        "id": "hN1wVQAdMVYy",
        "execution": {
          "iopub.status.busy": "2023-02-11T19:55:27.428013Z",
          "iopub.execute_input": "2023-02-11T19:55:27.429422Z",
          "iopub.status.idle": "2023-02-11T19:55:27.438804Z",
          "shell.execute_reply.started": "2023-02-11T19:55:27.429359Z",
          "shell.execute_reply": "2023-02-11T19:55:27.437013Z"
        },
        "trusted": true
      },
      "execution_count": null,
      "outputs": []
    },
    {
      "cell_type": "code",
      "source": [
        "def create_look_ahead_mask(size):\n",
        "    mask = 1 - tf.linalg.band_part(tf.ones((size, size)), -1, 0)\n",
        "    return mask"
      ],
      "metadata": {
        "id": "UmjAPLWuMREE",
        "execution": {
          "iopub.status.busy": "2023-02-11T19:55:27.441787Z",
          "iopub.execute_input": "2023-02-11T19:55:27.442983Z",
          "iopub.status.idle": "2023-02-11T19:55:27.451977Z",
          "shell.execute_reply.started": "2023-02-11T19:55:27.442892Z",
          "shell.execute_reply": "2023-02-11T19:55:27.450197Z"
        },
        "trusted": true
      },
      "execution_count": null,
      "outputs": []
    },
    {
      "cell_type": "markdown",
      "source": [
        "### Building the Model"
      ],
      "metadata": {
        "id": "n8DqUBc4NFOy"
      }
    },
    {
      "cell_type": "markdown",
      "source": [
        "#### Scaled Dot Product"
      ],
      "metadata": {
        "id": "WfknVF7hNKf7"
      }
    },
    {
      "cell_type": "code",
      "source": [
        "def scaled_dot_product_attention(q, k, v, mask):\n",
        "    matmul_qk = tf.matmul(q, k, transpose_b=True)\n",
        "\n",
        "    dk = tf.cast(tf.shape(k)[-1], tf.float32)\n",
        "    scaled_attention_logits = matmul_qk / tf.math.sqrt(dk)\n",
        "\n",
        "    if mask is not None:\n",
        "        scaled_attention_logits += (mask * -1e9)  \n",
        "\n",
        "    attention_weights = tf.nn.softmax(scaled_attention_logits, axis=-1)\n",
        "\n",
        "    output = tf.matmul(attention_weights, v)\n",
        "    return output, attention_weights"
      ],
      "metadata": {
        "id": "w_B6M9OBNBKB",
        "execution": {
          "iopub.status.busy": "2023-02-11T19:55:27.455135Z",
          "iopub.execute_input": "2023-02-11T19:55:27.456500Z",
          "iopub.status.idle": "2023-02-11T19:55:27.475051Z",
          "shell.execute_reply.started": "2023-02-11T19:55:27.456438Z",
          "shell.execute_reply": "2023-02-11T19:55:27.473479Z"
        },
        "trusted": true
      },
      "execution_count": null,
      "outputs": []
    },
    {
      "cell_type": "markdown",
      "source": [
        "#### Multi-Headed Attention"
      ],
      "metadata": {
        "id": "Rf7_a5uQOfJk"
      }
    },
    {
      "cell_type": "code",
      "source": [
        "class MultiHeadAttention(tf.keras.layers.Layer):\n",
        "    def __init__(self, d_model, num_heads):\n",
        "        super(MultiHeadAttention, self).__init__()\n",
        "        self.num_heads = num_heads\n",
        "        self.d_model = d_model\n",
        "\n",
        "        assert d_model % self.num_heads == 0\n",
        "\n",
        "        self.depth = d_model // self.num_heads\n",
        "\n",
        "        self.wq = tf.keras.layers.Dense(d_model)\n",
        "        self.wk = tf.keras.layers.Dense(d_model)\n",
        "        self.wv = tf.keras.layers.Dense(d_model)\n",
        "\n",
        "        self.dense = tf.keras.layers.Dense(d_model)\n",
        "        \n",
        "    def split_heads(self, x, batch_size):\n",
        "        x = tf.reshape(x, (batch_size, -1, self.num_heads, self.depth))\n",
        "        return tf.transpose(x, perm=[0, 2, 1, 3])\n",
        "    \n",
        "    def call(self, v, k, q, mask):\n",
        "        batch_size = tf.shape(q)[0]\n",
        "\n",
        "        q = self.wq(q)\n",
        "        k = self.wk(k)\n",
        "        v = self.wv(v)\n",
        "\n",
        "        q = self.split_heads(q, batch_size)\n",
        "        k = self.split_heads(k, batch_size)\n",
        "        v = self.split_heads(v, batch_size)\n",
        "\n",
        "        scaled_attention, attention_weights = scaled_dot_product_attention(\n",
        "            q, k, v, mask)\n",
        "\n",
        "        scaled_attention = tf.transpose(scaled_attention, perm=[0, 2, 1, 3])\n",
        "\n",
        "        concat_attention = tf.reshape(scaled_attention, (batch_size, -1, self.d_model))\n",
        "        output = self.dense(concat_attention)\n",
        "            \n",
        "        return output, attention_weights"
      ],
      "metadata": {
        "id": "iIuFrdXnNZEC",
        "execution": {
          "iopub.status.busy": "2023-02-11T19:55:27.478822Z",
          "iopub.execute_input": "2023-02-11T19:55:27.480010Z",
          "iopub.status.idle": "2023-02-11T19:55:27.500177Z",
          "shell.execute_reply.started": "2023-02-11T19:55:27.479922Z",
          "shell.execute_reply": "2023-02-11T19:55:27.498126Z"
        },
        "trusted": true
      },
      "execution_count": null,
      "outputs": []
    },
    {
      "cell_type": "markdown",
      "source": [
        "### Feed Forward Network"
      ],
      "metadata": {
        "id": "A49tXMVvOkOZ"
      }
    },
    {
      "cell_type": "code",
      "source": [
        "def point_wise_feed_forward_network(d_model, dff):\n",
        "    return tf.keras.Sequential([\n",
        "        tf.keras.layers.Dense(dff, activation='relu'),\n",
        "        tf.keras.layers.Dense(d_model)\n",
        "    ])"
      ],
      "metadata": {
        "id": "d9-qoKuTNwKq",
        "execution": {
          "iopub.status.busy": "2023-02-11T19:55:27.503894Z",
          "iopub.execute_input": "2023-02-11T19:55:27.504557Z",
          "iopub.status.idle": "2023-02-11T19:55:27.515216Z",
          "shell.execute_reply.started": "2023-02-11T19:55:27.504511Z",
          "shell.execute_reply": "2023-02-11T19:55:27.513737Z"
        },
        "trusted": true
      },
      "execution_count": null,
      "outputs": []
    },
    {
      "cell_type": "markdown",
      "source": [
        "#### Fundamental Unit of Transformer encoder"
      ],
      "metadata": {
        "id": "B2RRmn2bOpW9"
      }
    },
    {
      "cell_type": "code",
      "source": [
        "class EncoderLayer(tf.keras.layers.Layer):\n",
        "    def __init__(self, d_model, num_heads, dff, rate=0.1):\n",
        "        super(EncoderLayer, self).__init__()\n",
        "\n",
        "        self.mha = MultiHeadAttention(d_model, num_heads)\n",
        "        self.ffn = point_wise_feed_forward_network(d_model, dff)\n",
        "\n",
        "        self.layernorm1 = tf.keras.layers.LayerNormalization(epsilon=1e-6)\n",
        "        self.layernorm2 = tf.keras.layers.LayerNormalization(epsilon=1e-6)\n",
        "\n",
        "        self.dropout1 = tf.keras.layers.Dropout(rate)\n",
        "        self.dropout2 = tf.keras.layers.Dropout(rate)\n",
        "    \n",
        "    def call(self, x, training, mask):\n",
        "        attn_output, _ = self.mha(x, x, x, mask)\n",
        "        attn_output = self.dropout1(attn_output, training=training)\n",
        "        out1 = self.layernorm1(x + attn_output)\n",
        "\n",
        "        ffn_output = self.ffn(out1)\n",
        "        ffn_output = self.dropout2(ffn_output, training=training)\n",
        "        out2 = self.layernorm2(out1 + ffn_output)\n",
        "\n",
        "        return out2\n"
      ],
      "metadata": {
        "id": "HNuoJoFWO335",
        "execution": {
          "iopub.status.busy": "2023-02-11T19:55:27.517590Z",
          "iopub.execute_input": "2023-02-11T19:55:27.519086Z",
          "iopub.status.idle": "2023-02-11T19:55:27.534567Z",
          "shell.execute_reply.started": "2023-02-11T19:55:27.519023Z",
          "shell.execute_reply": "2023-02-11T19:55:27.533057Z"
        },
        "trusted": true
      },
      "execution_count": null,
      "outputs": []
    },
    {
      "cell_type": "markdown",
      "source": [
        "#### Fundamental Unit of Transformer decoder"
      ],
      "metadata": {
        "id": "9i6Zh8gnPqdW"
      }
    },
    {
      "cell_type": "code",
      "source": [
        "class DecoderLayer(tf.keras.layers.Layer):\n",
        "    def __init__(self, d_model, num_heads, dff, rate=0.1):\n",
        "        super(DecoderLayer, self).__init__()\n",
        "\n",
        "        self.mha1 = MultiHeadAttention(d_model, num_heads)\n",
        "        self.mha2 = MultiHeadAttention(d_model, num_heads)\n",
        "\n",
        "        self.ffn = point_wise_feed_forward_network(d_model, dff)\n",
        "\n",
        "        self.layernorm1 = tf.keras.layers.LayerNormalization(epsilon=1e-6)\n",
        "        self.layernorm2 = tf.keras.layers.LayerNormalization(epsilon=1e-6)\n",
        "        self.layernorm3 = tf.keras.layers.LayerNormalization(epsilon=1e-6)\n",
        "\n",
        "        self.dropout1 = tf.keras.layers.Dropout(rate)\n",
        "        self.dropout2 = tf.keras.layers.Dropout(rate)\n",
        "        self.dropout3 = tf.keras.layers.Dropout(rate)\n",
        "    \n",
        "    \n",
        "    def call(self, x, enc_output, training, look_ahead_mask, padding_mask):\n",
        "        attn1, attn_weights_block1 = self.mha1(x, x, x, look_ahead_mask)\n",
        "        attn1 = self.dropout1(attn1, training=training)\n",
        "        out1 = self.layernorm1(attn1 + x)\n",
        "\n",
        "        attn2, attn_weights_block2 = self.mha2(enc_output, enc_output, out1, padding_mask)\n",
        "        attn2 = self.dropout2(attn2, training=training)\n",
        "        out2 = self.layernorm2(attn2 + out1)\n",
        "\n",
        "        ffn_output = self.ffn(out2)\n",
        "        ffn_output = self.dropout3(ffn_output, training=training)\n",
        "        out3 = self.layernorm3(ffn_output + out2)\n",
        "\n",
        "        return out3, attn_weights_block1, attn_weights_block2\n"
      ],
      "metadata": {
        "id": "7CVmvs6dPMRC",
        "execution": {
          "iopub.status.busy": "2023-02-11T19:55:27.536906Z",
          "iopub.execute_input": "2023-02-11T19:55:27.538130Z",
          "iopub.status.idle": "2023-02-11T19:55:27.557274Z",
          "shell.execute_reply.started": "2023-02-11T19:55:27.538071Z",
          "shell.execute_reply": "2023-02-11T19:55:27.555614Z"
        },
        "trusted": true
      },
      "execution_count": null,
      "outputs": []
    },
    {
      "cell_type": "markdown",
      "source": [
        "#### Encoder consisting of multiple EncoderLayer(s)"
      ],
      "metadata": {
        "id": "6zt5MUc_QNid"
      }
    },
    {
      "cell_type": "code",
      "source": [
        "class Encoder(tf.keras.layers.Layer):\n",
        "    def __init__(self, num_layers, d_model, num_heads, dff, input_vocab_size, maximum_position_encoding, rate=0.1):\n",
        "        super(Encoder, self).__init__()\n",
        "\n",
        "        self.d_model = d_model\n",
        "        self.num_layers = num_layers\n",
        "\n",
        "        self.embedding = tf.keras.layers.Embedding(input_vocab_size, d_model)\n",
        "        self.pos_encoding = positional_encoding(maximum_position_encoding, self.d_model)\n",
        "\n",
        "        self.enc_layers = [EncoderLayer(d_model, num_heads, dff, rate) for _ in range(num_layers)]\n",
        "\n",
        "        self.dropout = tf.keras.layers.Dropout(rate)\n",
        "        \n",
        "    def call(self, x, training, mask):\n",
        "        seq_len = tf.shape(x)[1]\n",
        "\n",
        "        x = self.embedding(x)\n",
        "        x *= tf.math.sqrt(tf.cast(self.d_model, tf.float32))\n",
        "        x += self.pos_encoding[:, :seq_len, :]\n",
        "\n",
        "        x = self.dropout(x, training=training)\n",
        "    \n",
        "        for i in range(self.num_layers):\n",
        "            x = self.enc_layers[i](x, training, mask)\n",
        "    \n",
        "        return x\n"
      ],
      "metadata": {
        "id": "BrbnTwijQJ-h",
        "execution": {
          "iopub.status.busy": "2023-02-11T19:55:27.559539Z",
          "iopub.execute_input": "2023-02-11T19:55:27.561146Z",
          "iopub.status.idle": "2023-02-11T19:55:27.577916Z",
          "shell.execute_reply.started": "2023-02-11T19:55:27.561087Z",
          "shell.execute_reply": "2023-02-11T19:55:27.576363Z"
        },
        "trusted": true
      },
      "execution_count": null,
      "outputs": []
    },
    {
      "cell_type": "markdown",
      "source": [
        "#### Decoder consisting of multiple DecoderLayer(s)"
      ],
      "metadata": {
        "id": "4N5LrNrvRexg"
      }
    },
    {
      "cell_type": "code",
      "source": [
        "class Decoder(tf.keras.layers.Layer):\n",
        "    def __init__(self, num_layers, d_model, num_heads, dff, target_vocab_size, maximum_position_encoding, rate=0.1):\n",
        "        super(Decoder, self).__init__()\n",
        "\n",
        "        self.d_model = d_model\n",
        "        self.num_layers = num_layers\n",
        "\n",
        "        self.embedding = tf.keras.layers.Embedding(target_vocab_size, d_model)\n",
        "        self.pos_encoding = positional_encoding(maximum_position_encoding, d_model)\n",
        "\n",
        "        self.dec_layers = [DecoderLayer(d_model, num_heads, dff, rate) for _ in range(num_layers)]\n",
        "        self.dropout = tf.keras.layers.Dropout(rate)\n",
        "    \n",
        "    def call(self, x, enc_output, training, look_ahead_mask, padding_mask):\n",
        "        seq_len = tf.shape(x)[1]\n",
        "        attention_weights = {}\n",
        "\n",
        "        x = self.embedding(x)\n",
        "        x *= tf.math.sqrt(tf.cast(self.d_model, tf.float32))\n",
        "        x += self.pos_encoding[:, :seq_len, :]\n",
        "\n",
        "        x = self.dropout(x, training=training)\n",
        "\n",
        "        for i in range(self.num_layers):\n",
        "            x, block1, block2 = self.dec_layers[i](x, enc_output, training, look_ahead_mask, padding_mask)\n",
        "\n",
        "            attention_weights['decoder_layer{}_block1'.format(i+1)] = block1\n",
        "            attention_weights['decoder_layer{}_block2'.format(i+1)] = block2\n",
        "    \n",
        "        return x, attention_weights\n"
      ],
      "metadata": {
        "id": "UmeqkZrIRbSB",
        "execution": {
          "iopub.status.busy": "2023-02-11T19:55:27.580305Z",
          "iopub.execute_input": "2023-02-11T19:55:27.581397Z",
          "iopub.status.idle": "2023-02-11T19:55:27.599265Z",
          "shell.execute_reply.started": "2023-02-11T19:55:27.581196Z",
          "shell.execute_reply": "2023-02-11T19:55:27.598104Z"
        },
        "trusted": true
      },
      "execution_count": null,
      "outputs": []
    },
    {
      "cell_type": "markdown",
      "source": [
        "#### Finally, the Transformer"
      ],
      "metadata": {
        "id": "lbMNK_bzSHnh"
      }
    },
    {
      "cell_type": "code",
      "source": [
        "class Transformer(tf.keras.Model):\n",
        "    def __init__(self, num_layers, d_model, num_heads, dff, input_vocab_size, target_vocab_size, pe_input, pe_target, rate=0.1):\n",
        "        super(Transformer, self).__init__()\n",
        "\n",
        "        self.encoder = Encoder(num_layers, d_model, num_heads, dff, input_vocab_size, pe_input, rate)\n",
        "\n",
        "        self.decoder = Decoder(num_layers, d_model, num_heads, dff, target_vocab_size, pe_target, rate)\n",
        "\n",
        "        self.final_layer = tf.keras.layers.Dense(target_vocab_size)\n",
        "    \n",
        "    def call(self, inp, tar, training, enc_padding_mask, look_ahead_mask, dec_padding_mask):\n",
        "        enc_output = self.encoder(inp, training, enc_padding_mask)\n",
        "\n",
        "        dec_output, attention_weights = self.decoder(tar, enc_output, training, look_ahead_mask, dec_padding_mask)\n",
        "\n",
        "        final_output = self.final_layer(dec_output)\n",
        "\n",
        "        return final_output, attention_weights\n"
      ],
      "metadata": {
        "id": "FXHRG-o4R9Mc",
        "execution": {
          "iopub.status.busy": "2023-02-11T19:55:27.601433Z",
          "iopub.execute_input": "2023-02-11T19:55:27.602383Z",
          "iopub.status.idle": "2023-02-11T19:55:27.619237Z",
          "shell.execute_reply.started": "2023-02-11T19:55:27.602317Z",
          "shell.execute_reply": "2023-02-11T19:55:27.617067Z"
        },
        "trusted": true
      },
      "execution_count": null,
      "outputs": []
    },
    {
      "cell_type": "markdown",
      "source": [
        "### Training"
      ],
      "metadata": {
        "id": "UndsMPZXTdSr"
      }
    },
    {
      "cell_type": "code",
      "source": [
        "# hyper-params\n",
        "num_layers = 4\n",
        "d_model = 256 #old 128\n",
        "dff = 512\n",
        "num_heads = 8\n",
        "EPOCHS = 20 #old 20"
      ],
      "metadata": {
        "id": "lMTZJdIoSbuy",
        "execution": {
          "iopub.status.busy": "2023-02-11T19:55:27.621718Z",
          "iopub.execute_input": "2023-02-11T19:55:27.622889Z",
          "iopub.status.idle": "2023-02-11T19:55:27.636895Z",
          "shell.execute_reply.started": "2023-02-11T19:55:27.622623Z",
          "shell.execute_reply": "2023-02-11T19:55:27.635052Z"
        },
        "trusted": true
      },
      "execution_count": null,
      "outputs": []
    },
    {
      "cell_type": "markdown",
      "source": [
        "#### Adam optimizer with custom learning rate scheduling"
      ],
      "metadata": {
        "id": "uOGvkYDNTjIj"
      }
    },
    {
      "cell_type": "code",
      "source": [
        "class CustomSchedule(tf.keras.optimizers.schedules.LearningRateSchedule):\n",
        "    def __init__(self, d_model, warmup_steps=4000):\n",
        "        super(CustomSchedule, self).__init__()\n",
        "\n",
        "        self.d_model = d_model\n",
        "        self.d_model = tf.cast(self.d_model, tf.float32)\n",
        "\n",
        "        self.warmup_steps = warmup_steps\n",
        "    \n",
        "    def __call__(self, step):\n",
        "        arg1 = tf.math.rsqrt(step)\n",
        "        arg2 = step * (self.warmup_steps ** -1.5)\n",
        "\n",
        "        return tf.math.rsqrt(self.d_model) * tf.math.minimum(arg1, arg2)\n"
      ],
      "metadata": {
        "id": "tfiynCLlTL8C",
        "execution": {
          "iopub.status.busy": "2023-02-11T19:55:27.639049Z",
          "iopub.execute_input": "2023-02-11T19:55:27.640039Z",
          "iopub.status.idle": "2023-02-11T19:55:27.651668Z",
          "shell.execute_reply.started": "2023-02-11T19:55:27.639980Z",
          "shell.execute_reply": "2023-02-11T19:55:27.650155Z"
        },
        "trusted": true
      },
      "execution_count": null,
      "outputs": []
    },
    {
      "cell_type": "markdown",
      "source": [
        "#### Defining losses and other metrics "
      ],
      "metadata": {
        "id": "DsVdrENTUERY"
      }
    },
    {
      "cell_type": "code",
      "source": [
        "learning_rate = CustomSchedule(d_model)\n",
        "\n",
        "optimizer = tf.keras.optimizers.Adam(learning_rate, beta_1=0.9, beta_2=0.98, epsilon=1e-9)"
      ],
      "metadata": {
        "id": "Ip1-943kTXXK",
        "execution": {
          "iopub.status.busy": "2023-02-11T19:55:27.654116Z",
          "iopub.execute_input": "2023-02-11T19:55:27.655142Z",
          "iopub.status.idle": "2023-02-11T19:55:27.675298Z",
          "shell.execute_reply.started": "2023-02-11T19:55:27.655084Z",
          "shell.execute_reply": "2023-02-11T19:55:27.673290Z"
        },
        "trusted": true
      },
      "execution_count": null,
      "outputs": []
    },
    {
      "cell_type": "code",
      "source": [
        "loss_object = tf.keras.losses.SparseCategoricalCrossentropy(from_logits=True, reduction='none')"
      ],
      "metadata": {
        "id": "ktKwyvKtTvF6",
        "execution": {
          "iopub.status.busy": "2023-02-11T19:55:27.678003Z",
          "iopub.execute_input": "2023-02-11T19:55:27.679015Z",
          "iopub.status.idle": "2023-02-11T19:55:27.685769Z",
          "shell.execute_reply.started": "2023-02-11T19:55:27.678926Z",
          "shell.execute_reply": "2023-02-11T19:55:27.684227Z"
        },
        "trusted": true
      },
      "execution_count": null,
      "outputs": []
    },
    {
      "cell_type": "code",
      "source": [
        "def loss_function(real, pred):\n",
        "    mask = tf.math.logical_not(tf.math.equal(real, 0))\n",
        "    loss_ = loss_object(real, pred)\n",
        "\n",
        "    mask = tf.cast(mask, dtype=loss_.dtype)\n",
        "    loss_ *= mask\n",
        "\n",
        "    return tf.reduce_sum(loss_)/tf.reduce_sum(mask)\n"
      ],
      "metadata": {
        "id": "uW4LA_45T4Aa",
        "execution": {
          "iopub.status.busy": "2023-02-11T19:55:27.688489Z",
          "iopub.execute_input": "2023-02-11T19:55:27.689491Z",
          "iopub.status.idle": "2023-02-11T19:55:27.699468Z",
          "shell.execute_reply.started": "2023-02-11T19:55:27.689433Z",
          "shell.execute_reply": "2023-02-11T19:55:27.698058Z"
        },
        "trusted": true
      },
      "execution_count": null,
      "outputs": []
    },
    {
      "cell_type": "code",
      "source": [
        "train_loss = tf.keras.metrics.Mean(name='train_loss')"
      ],
      "metadata": {
        "id": "Ze0u6xxXT7dI",
        "execution": {
          "iopub.status.busy": "2023-02-11T19:55:27.701708Z",
          "iopub.execute_input": "2023-02-11T19:55:27.702608Z",
          "iopub.status.idle": "2023-02-11T19:55:27.749440Z",
          "shell.execute_reply.started": "2023-02-11T19:55:27.702550Z",
          "shell.execute_reply": "2023-02-11T19:55:27.748059Z"
        },
        "trusted": true
      },
      "execution_count": null,
      "outputs": []
    },
    {
      "cell_type": "markdown",
      "source": [
        "#### Transformer"
      ],
      "metadata": {
        "id": "9XvKy3v6ULnO"
      }
    },
    {
      "cell_type": "code",
      "source": [
        "transformer = Transformer(\n",
        "    num_layers, \n",
        "    d_model, \n",
        "    num_heads, \n",
        "    dff,\n",
        "    encoder_vocab_size, \n",
        "    decoder_vocab_size, \n",
        "    pe_input=encoder_vocab_size, \n",
        "    pe_target=decoder_vocab_size,\n",
        ")"
      ],
      "metadata": {
        "id": "d5-RcxqFUCuk",
        "execution": {
          "iopub.status.busy": "2023-02-11T19:55:27.753601Z",
          "iopub.execute_input": "2023-02-11T19:55:27.754557Z",
          "iopub.status.idle": "2023-02-11T19:55:34.189162Z",
          "shell.execute_reply.started": "2023-02-11T19:55:27.754496Z",
          "shell.execute_reply": "2023-02-11T19:55:34.187668Z"
        },
        "trusted": true,
        "outputId": "816c59e9-b9cf-4b1e-bdca-9ca3d162e7fd"
      },
      "execution_count": null,
      "outputs": [
        {
          "name": "stderr",
          "text": "2023-02-11 19:55:31.441846: W tensorflow/core/framework/cpu_allocator_impl.cc:80] Allocation of 879894528 exceeds 10% of free system memory.\n2023-02-11 19:55:33.803948: W tensorflow/core/framework/cpu_allocator_impl.cc:80] Allocation of 227477504 exceeds 10% of free system memory.\n",
          "output_type": "stream"
        }
      ]
    },
    {
      "cell_type": "markdown",
      "source": [
        "#### Masks"
      ],
      "metadata": {
        "id": "f56BGiVXU_Dk"
      }
    },
    {
      "cell_type": "code",
      "source": [
        "def create_masks(inp, tar):\n",
        "    enc_padding_mask = create_padding_mask(inp)\n",
        "    dec_padding_mask = create_padding_mask(inp)\n",
        "\n",
        "    look_ahead_mask = create_look_ahead_mask(tf.shape(tar)[1])\n",
        "    dec_target_padding_mask = create_padding_mask(tar)\n",
        "    combined_mask = tf.maximum(dec_target_padding_mask, look_ahead_mask)\n",
        "  \n",
        "    return enc_padding_mask, combined_mask, dec_padding_mask\n"
      ],
      "metadata": {
        "id": "FZxHuyZxU5Pa",
        "execution": {
          "iopub.status.busy": "2023-02-11T19:55:34.191279Z",
          "iopub.execute_input": "2023-02-11T19:55:34.193358Z",
          "iopub.status.idle": "2023-02-11T19:55:34.202165Z",
          "shell.execute_reply.started": "2023-02-11T19:55:34.193292Z",
          "shell.execute_reply": "2023-02-11T19:55:34.200275Z"
        },
        "trusted": true
      },
      "execution_count": null,
      "outputs": []
    },
    {
      "cell_type": "markdown",
      "source": [
        "#### Checkpoints"
      ],
      "metadata": {
        "id": "SYIotvaBVI0d"
      }
    },
    {
      "cell_type": "code",
      "source": [
        "checkpoint_path = \".\"\n",
        "\n",
        "ckpt = tf.train.Checkpoint(transformer=transformer, optimizer=optimizer)\n",
        "\n",
        "ckpt_manager = tf.train.CheckpointManager(ckpt, checkpoint_path, max_to_keep=5)\n",
        "\n",
        "if ckpt_manager.latest_checkpoint:\n",
        "    ckpt.restore(ckpt_manager.latest_checkpoint)\n",
        "    print ('Latest checkpoint restored!!')"
      ],
      "metadata": {
        "id": "tOc1_3c-VGaL",
        "outputId": "97aa6407-aafe-4b3d-e08b-3346580f3bb7",
        "execution": {
          "iopub.status.busy": "2023-02-11T19:55:34.204249Z",
          "iopub.execute_input": "2023-02-11T19:55:34.205877Z",
          "iopub.status.idle": "2023-02-11T19:55:34.257954Z",
          "shell.execute_reply.started": "2023-02-11T19:55:34.205822Z",
          "shell.execute_reply": "2023-02-11T19:55:34.256486Z"
        },
        "trusted": true
      },
      "execution_count": null,
      "outputs": [
        {
          "name": "stdout",
          "text": "Latest checkpoint restored!!\n",
          "output_type": "stream"
        }
      ]
    },
    {
      "cell_type": "markdown",
      "source": [
        "#### Training steps"
      ],
      "metadata": {
        "id": "WfpI0gS4c06c"
      }
    },
    {
      "cell_type": "code",
      "source": [
        "@tf.function\n",
        "def train_step(inp, tar):\n",
        "    tar_inp = tar[:, :-1]\n",
        "    tar_real = tar[:, 1:]\n",
        "\n",
        "    enc_padding_mask, combined_mask, dec_padding_mask = create_masks(inp, tar_inp)\n",
        "\n",
        "    with tf.GradientTape() as tape:\n",
        "        predictions, _ = transformer(\n",
        "            inp, tar_inp, \n",
        "            True, \n",
        "            enc_padding_mask, \n",
        "            combined_mask, \n",
        "            dec_padding_mask\n",
        "        )\n",
        "        loss = loss_function(tar_real, predictions)\n",
        "\n",
        "    gradients = tape.gradient(loss, transformer.trainable_variables)    \n",
        "    optimizer.apply_gradients(zip(gradients, transformer.trainable_variables))\n",
        "\n",
        "    train_loss(loss)"
      ],
      "metadata": {
        "id": "xmVOMzkrczgl",
        "execution": {
          "iopub.status.busy": "2023-02-11T20:04:11.274309Z",
          "iopub.execute_input": "2023-02-11T20:04:11.274782Z",
          "iopub.status.idle": "2023-02-11T20:04:11.285257Z",
          "shell.execute_reply.started": "2023-02-11T20:04:11.274745Z",
          "shell.execute_reply": "2023-02-11T20:04:11.283774Z"
        },
        "trusted": true
      },
      "execution_count": null,
      "outputs": []
    },
    {
      "cell_type": "code",
      "source": [
        "for epoch in range(EPOCHS):\n",
        "    start = time.time()\n",
        "\n",
        "    train_loss.reset_states()\n",
        "  \n",
        "    for (batch, (inp, tar)) in enumerate(dataset):\n",
        "        train_step(inp, tar)\n",
        "    \n",
        "        # 55k samples\n",
        "        # we display 3 batch results -- 0th, middle and last one (approx)\n",
        "        # 55k / 64 ~ 858; 858 / 2 = 429\n",
        "        if batch % 429 == 0:\n",
        "            print ('Epoch {} Batch {} Loss {:.4f}'.format(epoch + 1, batch, train_loss.result()))\n",
        "      \n",
        "    if (epoch + 1) % 5 == 0:\n",
        "        ckpt_save_path = ckpt_manager.save()\n",
        "        print ('Saving checkpoint for epoch {} at {}'.format(epoch+1, ckpt_save_path))\n",
        "    \n",
        "    print ('Epoch {} Loss {:.4f}'.format(epoch + 1, train_loss.result()))\n",
        "\n",
        "    print ('Time taken for 1 epoch: {} secs\\n'.format(time.time() - start))\n"
      ],
      "metadata": {
        "id": "xORKpv69dSW5",
        "execution": {
          "iopub.status.busy": "2023-02-04T12:28:34.085048Z",
          "iopub.execute_input": "2023-02-04T12:28:34.087372Z",
          "iopub.status.idle": "2023-02-04T12:28:34.093923Z",
          "shell.execute_reply.started": "2023-02-04T12:28:34.087335Z",
          "shell.execute_reply": "2023-02-04T12:28:34.093081Z"
        },
        "trusted": true
      },
      "execution_count": null,
      "outputs": []
    },
    {
      "cell_type": "markdown",
      "source": [
        "### Inference"
      ],
      "metadata": {
        "id": "PVbEUCZagJ0G"
      }
    },
    {
      "cell_type": "markdown",
      "source": [
        "#### Predicting one word at a time at the decoder and appending it to the output; then taking the complete sequence as an input to the decoder and repeating until maxlen or stop keyword appears"
      ],
      "metadata": {
        "id": "YMbqGTixu1cl"
      }
    },
    {
      "cell_type": "code",
      "source": [
        "def evaluate(input_document):\n",
        "    input_document = document_tokenizer.texts_to_sequences([input_document])\n",
        "    input_document = tf.keras.preprocessing.sequence.pad_sequences(input_document, maxlen=encoder_maxlen, padding='post', truncating='post')\n",
        "\n",
        "    encoder_input = tf.expand_dims(input_document[0], 0)\n",
        "\n",
        "    decoder_input = [summary_tokenizer.word_index[\"<go>\"]]\n",
        "    output = tf.expand_dims(decoder_input, 0)\n",
        "    \n",
        "    for i in range(decoder_maxlen):\n",
        "        enc_padding_mask, combined_mask, dec_padding_mask = create_masks(encoder_input, output)\n",
        "\n",
        "        predictions, attention_weights = transformer(\n",
        "            encoder_input, \n",
        "            output,\n",
        "            False,\n",
        "            enc_padding_mask,\n",
        "            combined_mask,\n",
        "            dec_padding_mask\n",
        "        )\n",
        "\n",
        "        predictions = predictions[: ,-1:, :]\n",
        "        predicted_id = tf.cast(tf.argmax(predictions, axis=-1), tf.int32)\n",
        "\n",
        "        if predicted_id == summary_tokenizer.word_index[\"<stop>\"]:\n",
        "            return tf.squeeze(output, axis=0), attention_weights\n",
        "\n",
        "        output = tf.concat([output, predicted_id], axis=-1)\n",
        "\n",
        "    return tf.squeeze(output, axis=0), attention_weights\n"
      ],
      "metadata": {
        "id": "F5D5cv2Jd8-6",
        "execution": {
          "iopub.status.busy": "2023-02-11T20:04:19.504764Z",
          "iopub.execute_input": "2023-02-11T20:04:19.506080Z",
          "iopub.status.idle": "2023-02-11T20:04:19.518953Z",
          "shell.execute_reply.started": "2023-02-11T20:04:19.506006Z",
          "shell.execute_reply": "2023-02-11T20:04:19.517042Z"
        },
        "trusted": true
      },
      "execution_count": null,
      "outputs": []
    },
    {
      "cell_type": "code",
      "source": [
        "def summarize(input_document):\n",
        "    # not considering attention weights for now, can be used to plot attention heatmaps in the future\n",
        "    summarized = evaluate(input_document=input_document)[0].numpy()\n",
        "    summarized = np.expand_dims(summarized[1:], 0)  # not printing <go> token\n",
        "    return summary_tokenizer.sequences_to_texts(summarized)[0]  # since there is just one translated document"
      ],
      "metadata": {
        "id": "UkpdiW6wnmiS",
        "execution": {
          "iopub.status.busy": "2023-02-11T20:04:25.905524Z",
          "iopub.execute_input": "2023-02-11T20:04:25.906020Z",
          "iopub.status.idle": "2023-02-11T20:04:25.914056Z",
          "shell.execute_reply.started": "2023-02-11T20:04:25.905977Z",
          "shell.execute_reply": "2023-02-11T20:04:25.912472Z"
        },
        "trusted": true
      },
      "execution_count": null,
      "outputs": []
    },
    {
      "cell_type": "code",
      "source": [
        "testsen=clean_words(\"Aston Villa and Reading have been charged by the Football Association in relation to crowd disturbances occurring after their FA Cup quarter-final matches. It is alleged that Villa and Reading failed to prevent spectators encroaching on the pitch following the clubs' sixth-round victories against West Brom and Bradford respectively. Both clubs have until Thursday to respond to the charge. Reading fans invaded the pitch after the FA Cup quarter-final replay against Bradford at Madejski Stadium . Aston Villa supporters mobbed Fabian Delph and Co after they beat West Brom at Villa Park . The Midlands club's 2-0 win at Villa Park had to be temporarily stopped as fans spilled onto the pitch towards the end of the game and the full-time whistle prompted a mass pitch invasion, as Tim Sherwood's side booked their place at Wembley. Seats were also thrown from the stand holding West Brom's supporters and some Baggies players were confronted by celebrating fans. West Brom expressed their 'deep concern' for the safety of the players after the match and manager Tony Pulis described the scenes as 'disgraceful'. A shirtless man hangs from the crossbar after Villa beat the Baggies in the FA Cup quarter-final . Hundreds of Villa fans celebrated victory over their local rivals by storming onto the pitch . Reading fans also invaded the pitch after the Royals beat Bradford 3-0 in a replay at the Madejski Stadium and one supporter entered the pitch during the contest. Reading lost 2-1 after extra-time on Saturday to Arsenal, who will play Villa in the FA Cup final after Sherwood's side beat Liverpool 2-1. Police formed a line to separate the Reading supporters on the pitch from the Bradford fans in the stands . Hundreds of Reading fans surrounded players from both sides after the Royals won a place in the semi-finals .\")"
      ],
      "metadata": {
        "execution": {
          "iopub.status.busy": "2023-02-11T20:06:09.009592Z",
          "iopub.execute_input": "2023-02-11T20:06:09.011237Z",
          "iopub.status.idle": "2023-02-11T20:06:09.020461Z",
          "shell.execute_reply.started": "2023-02-11T20:06:09.011185Z",
          "shell.execute_reply": "2023-02-11T20:06:09.018780Z"
        },
        "trusted": true,
        "id": "8dawtONqjecV"
      },
      "execution_count": null,
      "outputs": []
    },
    {
      "cell_type": "code",
      "source": [
        "testsen"
      ],
      "metadata": {
        "execution": {
          "iopub.status.busy": "2023-02-11T20:06:09.826707Z",
          "iopub.execute_input": "2023-02-11T20:06:09.827229Z",
          "iopub.status.idle": "2023-02-11T20:06:09.836296Z",
          "shell.execute_reply.started": "2023-02-11T20:06:09.827185Z",
          "shell.execute_reply": "2023-02-11T20:06:09.834752Z"
        },
        "trusted": true,
        "id": "l7y600-LjecV",
        "outputId": "832fa429-b9f8-4828-d053-b67a020004e8"
      },
      "execution_count": null,
      "outputs": [
        {
          "execution_count": 72,
          "output_type": "execute_result",
          "data": {
            "text/plain": "'aston villa reading charged football association relation crowd disturbances occurring fa cup quarterfinal matches alleged villa reading failed prevent spectators encroaching pitch following clubs sixthround victories west brom bradford respectively clubs thursday respond charge reading fans invaded pitch fa cup quarterfinal replay bradford madejski stadium aston villa supporters mobbed fabian delph co beat west brom villa park midlands clubs win villa park temporarily stopped fans spilled onto pitch towards end game fulltime whistle prompted mass pitch invasion tim sherwoods side booked place wembley seats also thrown stand holding west broms supporters baggies players confronted celebrating fans west brom expressed deep concern safety players match manager tony pulis described scenes disgraceful shirtless man hangs crossbar villa beat baggies fa cup quarterfinal hundreds villa fans celebrated victory local rivals storming onto pitch reading fans also invaded pitch royals beat bradford replay madejski stadium one supporter entered pitch contest reading lost extratime saturday arsenal play villa fa cup final sherwoods side beat liverpool police formed line separate reading supporters pitch bradford fans stands hundreds reading fans surrounded players sides royals place semifinals'"
          },
          "metadata": {}
        }
      ]
    },
    {
      "cell_type": "code",
      "source": [
        "summarize(\n",
        "    testsen)"
      ],
      "metadata": {
        "id": "kNVOWPXFIn0k",
        "outputId": "8903c6e6-6eca-474d-b009-57d84502a8c5",
        "execution": {
          "iopub.status.busy": "2023-02-11T20:06:12.969595Z",
          "iopub.execute_input": "2023-02-11T20:06:12.970108Z",
          "iopub.status.idle": "2023-02-11T20:06:26.267455Z",
          "shell.execute_reply.started": "2023-02-11T20:06:12.970065Z",
          "shell.execute_reply": "2023-02-11T20:06:26.266000Z"
        },
        "trusted": true
      },
      "execution_count": null,
      "outputs": [
        {
          "name": "stderr",
          "text": "2023-02-11 20:06:13.031859: W tensorflow/core/framework/cpu_allocator_impl.cc:80] Allocation of 439947264 exceeds 10% of free system memory.\n",
          "output_type": "stream"
        },
        {
          "execution_count": 73,
          "output_type": "execute_result",
          "data": {
            "text/plain": "'the yearold was given a chance to return home after a brief encounter with a man in the first half of his career he was sent off for a second yellow card for the second time in a row the yearold is now in charge of the possibility of a fine'"
          },
          "metadata": {}
        }
      ]
    },
    {
      "cell_type": "markdown",
      "source": [
        "## "
      ],
      "metadata": {
        "id": "kgo--K5AjecW"
      }
    },
    {
      "cell_type": "markdown",
      "source": [],
      "metadata": {
        "id": "1ZzvjF4HjecW"
      }
    },
    {
      "cell_type": "code",
      "source": [
        "!pip install rouge\n",
        "from rouge import Rouge"
      ],
      "metadata": {
        "id": "i17F4QyhlOHx"
      },
      "execution_count": null,
      "outputs": []
    },
    {
      "cell_type": "code",
      "source": [
        "res=vnews[20:120]\n",
        "res['pred']=res['article'].apply(summarize)\n",
        "rouge = Rouge()\n",
        "rouge.get_scores(res['pred'].tolist(), res['highlights'].tolist(), avg=True)"
      ],
      "metadata": {
        "execution": {
          "iopub.status.busy": "2023-02-04T12:38:34.634318Z",
          "iopub.execute_input": "2023-02-04T12:38:34.634694Z",
          "iopub.status.idle": "2023-02-04T12:45:47.888856Z",
          "shell.execute_reply.started": "2023-02-04T12:38:34.634662Z",
          "shell.execute_reply": "2023-02-04T12:45:47.887513Z"
        },
        "trusted": true,
        "id": "FLFfZNp_jecW"
      },
      "execution_count": null,
      "outputs": []
    }
  ]
}